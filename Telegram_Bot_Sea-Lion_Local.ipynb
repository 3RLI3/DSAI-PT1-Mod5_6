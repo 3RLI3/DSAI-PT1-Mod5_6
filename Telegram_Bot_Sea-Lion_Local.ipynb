{
 "cells": [
  {
   "cell_type": "code",
   "execution_count": 3,
   "metadata": {
    "colab": {
     "base_uri": "https://localhost:8080/"
    },
    "executionInfo": {
     "elapsed": 10358,
     "status": "ok",
     "timestamp": 1744272529256,
     "user": {
      "displayName": "Teoh Teik Toe",
      "userId": "14648357212666722599"
     },
     "user_tz": -480
    },
    "id": "wxQpu6_TGZfN",
    "outputId": "6ad1c5b0-a4ae-433d-b9da-cdb187159384"
   },
   "outputs": [
    {
     "name": "stdout",
     "output_type": "stream",
     "text": [
      "Singapore is a small, bustling island nation located at the southern tip of the Malay Peninsula in Southeast Asia. It’s a fascinating blend of modernity and tradition, with a unique history shaped by its strategic location.\n",
      "\n",
      "Here are some key aspects that define Singapore:\n",
      "\n",
      "1. **Geography & Climate**: \n",
      "   - A city-state comprising one main island (Singapore) and 63 smaller islets.\n",
      "   - Tropical climate with high humidity and consistent rainfall throughout the year.\n",
      "   - Known for being a \"garden city,\" with extensive greenery integrated into urban landscapes.\n",
      "\n",
      "2. **History**:\n",
      "   - Originally inhabited by indigenous Orang Laut and later Malay fishermen.\n",
      "   - Became part of various colonial powers (British) in 1819, evolving from a trading post to a key regional hub.\n",
      "   - Gained independence in 1965 and transformed rapidly through pragmatic governance into the modern nation it is today.\n",
      "\n",
      "3. **Economy**:\n",
      "   - A highly developed global financial center with a strong emphasis on trade, finance, manufacturing (particularly electronics), and tourism.\n",
      "   - Known for its low tax rates, efficient infrastructure, and business-friendly policies.\n",
      "   - Major port city serving as a key logistics hub in Southeast Asia.\n",
      "\n",
      "4. **Cultural Landscape**:\n",
      "   - Multiracial society (Chinese 75%, Malay 15%, Indian 7%) with official languages including English, Mandarin, Malay, and Tamil.\n",
      "   - Rich tapestry of traditions: Chinese temples, Malay mosques, Hindu shrines, and Christian churches coexist harmoniously.\n",
      "   - Festivals like Chingay Parade, Hari Raya, Deepavali, and Thaipusam showcase the diversity.\n",
      "\n",
      "5. **Infrastructure & Urban Planning**:\n",
      "   - World-class public transportation system (MRT and buses) with integrated ticketing.\n",
      "   - Iconic structures: Marina Bay Sands, Gardens by the Bay, Merlion statue, Supertrees.\n",
      "   - Emphasis on cleanliness, safety, and efficiency – often ranked highly in global livability surveys.\n",
      "\n",
      "6. **Government & Society**:\n",
      "   - Parliamentary representative democratic system led by a Prime Minister.\n",
      "   - Strong emphasis on meritocracy, education, and public housing (HDB flats).\n",
      "   - Strict laws to maintain social harmony, including chewing gum prohibition and noise control regulations.\n",
      "\n",
      "7. **Food Culture**:\n",
      "   - Vibrant food scene combining local hawker fare (like Hainanese chicken rice, chili crab, laksa) with international cuisine.\n",
      "   - Hawker centers are integral to daily life, offering affordable meals in a communal setting.\n",
      "   - Known for its emphasis on freshness and hygiene.\n",
      "\n",
      "8. **Education**:\n",
      "   - High investment in education with strong public schools (like Raffles Institution) and reputable universities (NUS, NTU).\n",
      "   - Focus on STEM fields and bilingualism (English + mother tongue).\n",
      "\n",
      "9. **Challenges & Considerations**:\n",
      "   - High cost of living compared to many other Asian cities.\n",
      "   - Limited natural resources requiring imports for water and food.\n",
      "   - Balancing rapid urban development with preserving heritage sites.\n",
      "\n",
      "Would you like me to elaborate on any specific aspect, such as its cultural festivals, economic policies, or perhaps its unique approach to city planning?\n"
     ]
    }
   ],
   "source": [
    "# test to check if ollama is working\n",
    "import ollama\n",
    "response = ollama.chat(model='aisingapore/Llama-SEA-LION-v3.5-8B-R', messages=\n",
    "[\n",
    "  { 'role': 'user',  'content': \"Describe Singapore\"}\n",
    "])\n",
    "print(response['message']['content'])"
   ]
  },
  {
   "cell_type": "code",
   "execution_count": null,
   "metadata": {
    "executionInfo": {
     "elapsed": 16,
     "status": "ok",
     "timestamp": 1744272594838,
     "user": {
      "displayName": "Teoh Teik Toe",
      "userId": "14648357212666722599"
     },
     "user_tz": -480
    },
    "id": "l9g6qH1z3W9D"
   },
   "outputs": [],
   "source": [
    "# import libraries and api keys\n",
    "import time\n",
    "import os\n",
    "import requests\n",
    "from dotenv import load_dotenv\n",
    "import ollama\n",
    "\n",
    "\n",
    "load_dotenv()\n",
    "\n",
    "TOKEN = os.getenv(\"telegram_api_key\")\n",
    "\n",
    "BASE_URL = f\"https://api.telegram.org/bot{TOKEN}/\""
   ]
  },
  {
   "cell_type": "code",
   "execution_count": 2,
   "metadata": {},
   "outputs": [],
   "source": [
    "# Select local Ollama model (ollama list)\n",
    "OLLAMA_MODEL = \"aisingapore/Llama-SEA-LION-v3.5-8B-R\"  \n",
    "OLLAMA_URL = \"http://localhost:11434/api/chat\""
   ]
  },
  {
   "cell_type": "code",
   "execution_count": 3,
   "metadata": {},
   "outputs": [],
   "source": [
    "# function to send response once ready\n",
    "def send_message(chat_id, text):\n",
    "    r = requests.post(BASE_URL + \"sendMessage\", json={\n",
    "        \"chat_id\": chat_id,\n",
    "        \"text\": text\n",
    "    })\n",
    "    if not r.ok:\n",
    "        print(\"sendMessage failed:\", r.text)"
   ]
  },
  {
   "cell_type": "code",
   "execution_count": 4,
   "metadata": {},
   "outputs": [],
   "source": [
    "# function the get the new user messages with offset setting to get new msg only\n",
    "def get_updates(offset=None):\n",
    "    params = {\"timeout\": 30}\n",
    "    if offset:\n",
    "        params[\"offset\"] = offset\n",
    "    r = requests.get(BASE_URL + \"getUpdates\", params=params, timeout=40)\n",
    "    \n",
    "    if not r.ok:\n",
    "        print(\"getUpdates error:\", r.text)\n",
    "        return []\n",
    "    return r.json().get(\"result\", [])"
   ]
  },
  {
   "cell_type": "code",
   "execution_count": null,
   "metadata": {
    "colab": {
     "base_uri": "https://localhost:8080/"
    },
    "executionInfo": {
     "elapsed": 5420,
     "status": "ok",
     "timestamp": 1744272618898,
     "user": {
      "displayName": "Teoh Teik Toe",
      "userId": "14648357212666722599"
     },
     "user_tz": -480
    },
    "id": "V0zUiVqvKOfA",
    "outputId": "8f519f5c-eeb6-4408-d650-4c221168c0e7"
   },
   "outputs": [
    {
     "ename": "",
     "evalue": "",
     "output_type": "error",
     "traceback": [
      "\u001b[1;31mThe Kernel crashed while executing code in the current cell or a previous cell. \n",
      "\u001b[1;31mPlease review the code in the cell(s) to identify a possible cause of the failure. \n",
      "\u001b[1;31mClick <a href='https://aka.ms/vscodeJupyterKernelCrash'>here</a> for more info. \n",
      "\u001b[1;31mView Jupyter <a href='command:jupyter.viewOutput'>log</a> for further details."
     ]
    }
   ],
   "source": [
    "# Function to get model response \n",
    "def get_model_response(user_input):\n",
    "    try:\n",
    "        r = requests.post(OLLAMA_URL, json={\n",
    "            \"model\": OLLAMA_MODEL,\n",
    "            \"messages\": [{\"role\": \"user\", \"content\": user_input}],\n",
    "            \"stream\": False})\n",
    "\n",
    "        r.raise_for_status()\n",
    "        return r.json()[\"message\"][\"content\"]\n",
    "        \n",
    "    except Exception as e:\n",
    "        return f\"[Error from model: {e}]\""
   ]
  },
  {
   "cell_type": "code",
   "execution_count": null,
   "metadata": {},
   "outputs": [
    {
     "name": "stdout",
     "output_type": "stream",
     "text": [
      "Bot is running... (Ctrl+C to stop)\n",
      "\n",
      "Incoming message from 8175779086: describe Singapore in Singlish\n"
     ]
    }
   ],
   "source": [
    "# keeep bot in a while loop\n",
    "print(\"Bot is running... (Ctrl+C to stop)\")\n",
    "last_update_id = None\n",
    "\n",
    "try:\n",
    "    while True:\n",
    "        updates = get_updates(offset=last_update_id + 1 if last_update_id else None)\n",
    "\n",
    "        for update in updates:\n",
    "            last_update_id = update[\"update_id\"]\n",
    "\n",
    "            message = update.get(\"message\", {})\n",
    "            chat_id = message.get(\"chat\", {}).get(\"id\")\n",
    "            user_text = message.get(\"text\")\n",
    "\n",
    "            if not chat_id or not user_text:\n",
    "                continue  # Skip non-text messages\n",
    "\n",
    "            print(f\"\\nIncoming message from {chat_id}: {user_text}\")\n",
    "\n",
    "            if user_text.lower().strip() == \"exit\":\n",
    "                send_message(chat_id, \"Goodbye! Thank you for chatting.\")\n",
    "                continue\n",
    "\n",
    "            send_message(chat_id, \"🤖 Thinking...\")\n",
    "            reply = get_model_response(user_text)\n",
    "            send_message(chat_id, reply)\n",
    "\n",
    "        time.sleep(1)  # Avoid hammering the Telegram API\n",
    "except KeyboardInterrupt:\n",
    "    print(\"\\nBot stopped by user.\")\n"
   ]
  }
 ],
 "metadata": {
  "accelerator": "GPU",
  "colab": {
   "authorship_tag": "ABX9TyMMfvVuLltJO3fxfMQKblW7",
   "gpuType": "T4",
   "provenance": []
  },
  "kernelspec": {
   "display_name": "dsai_cap",
   "language": "python",
   "name": "python3"
  },
  "language_info": {
   "codemirror_mode": {
    "name": "ipython",
    "version": 3
   },
   "file_extension": ".py",
   "mimetype": "text/x-python",
   "name": "python",
   "nbconvert_exporter": "python",
   "pygments_lexer": "ipython3",
   "version": "3.10.16"
  }
 },
 "nbformat": 4,
 "nbformat_minor": 0
}
